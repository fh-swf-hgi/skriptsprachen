{
 "cells": [
  {
   "cell_type": "markdown",
   "id": "5f25eeee",
   "metadata": {},
   "source": [
    "<figure>\n",
    "  <IMG SRC=\"https://upload.wikimedia.org/wikipedia/commons/thumb/d/d5/Fachhochschule_Südwestfalen_20xx_logo.svg/320px-Fachhochschule_Südwestfalen_20xx_logo.svg.png\" WIDTH=250 ALIGN=\"right\">\n",
    "</figure>\n",
    "\n",
    "# Skriptsprachen\n",
    "### Winterersemester 2023/24\n",
    "Prof. Dr. Heiner Giefers"
   ]
  },
  {
   "cell_type": "code",
   "execution_count": null,
   "id": "d84c2ca2",
   "metadata": {},
   "outputs": [],
   "source": [
    "import sys\n",
    "try:\n",
    "    import musicbrainzngs as mb\n",
    "except:\n",
    "    !{sys.executable} -m pip install musicbrainzngs"
   ]
  },
  {
   "cell_type": "markdown",
   "id": "6838f2a0",
   "metadata": {},
   "source": [
    "### SQLite Datenbank"
   ]
  },
  {
   "cell_type": "markdown",
   "id": "f0afff6a",
   "metadata": {},
   "source": [
    "In dieser Aufgabe wollen wir eine SQLite Datenbank verwenden, um Musik Alben lokal abzuspeichern.\n",
    "Um an sinnvolle Daten zu kommen, verwenden wir die frei zugängliche Datenbank des [Musicbrainz Projekts](https://musicbrainz.org/)."
   ]
  },
  {
   "cell_type": "code",
   "execution_count": null,
   "id": "61501a66",
   "metadata": {},
   "outputs": [],
   "source": [
    "import sqlite3\n",
    "import musicbrainzngs as mb\n",
    "\n",
    "mb.set_useragent(\"Skriptsprachen\",\"0.1\", contact=\"none\")\n",
    "\n",
    "def alben_von(artist):\n",
    "    #q = mb.search_releases(artist=artist, type=\"Album\")\n",
    "    search_results = mb.search_artists(\"Neil Young\")\n",
    "    artist_id = search_results['artist-list'][0]['id']\n",
    "    q = mb.browse_releases(artist=artist_id, release_type=['album'], limit=100)\n",
    "    result = []\n",
    "    for i,r in enumerate(q['release-list']):\n",
    "        if 'date' in r and 'title' in r:\n",
    "            result.append((artist, r['title'], r['date']))\n",
    "    return result\n",
    "        \n",
    "alben_von(\"Neil Young\")[0:9]\n",
    "    "
   ]
  },
  {
   "cell_type": "markdown",
   "id": "4ab94d0c",
   "metadata": {},
   "source": [
    "Nun verbinden wir uns mit einer lokalen SQLite Datenbank, in der wir die heruntergeladenen Informationen ablegen wollen.\n",
    "Wenn Sie eine Verbindung zu einer nicht vorhandenen SQLite-Datenbankdatei herstellen, erstellt SQLite automatisch die neue Datenbank mit dem abgegebenen Dateinamen.\n",
    "\n",
    "Eine Aufgebaute DB-Verbindung sollte in jedem Fall wieder geschlossen werden, da ansonsten die Datenbank gelockt bleibt.\n",
    "Wir werden gleich eine Möglichkeit sehen, wie man das explizite Schließen umgehen kann."
   ]
  },
  {
   "cell_type": "code",
   "execution_count": null,
   "id": "86029478",
   "metadata": {},
   "outputs": [],
   "source": [
    "con = sqlite3.connect('db.sqlite3', timeout=10)\n",
    "con.close()"
   ]
  },
  {
   "cell_type": "markdown",
   "id": "ef3ac179",
   "metadata": {},
   "source": [
    "Über Context-Manager, die mit dem Schlüsselwort `with` erzeugt werden, kann man den Zugriff auf geteilte Ressourcen, wie Dateien oder eben Datenbanken kontrollieren.\n",
    "Ein Context-Manager Klasse implementiert die *Magic Methods* `__enter__` und `__exit__`.\n",
    "So kann die die Ressource in der `__enter__`-Methode angefordert und beim Verlassen des `with` Blockes wieder über die `__exit__`-Methode freigegeben werden. \n",
    " "
   ]
  },
  {
   "cell_type": "code",
   "execution_count": null,
   "id": "edbdce05",
   "metadata": {},
   "outputs": [],
   "source": [
    "with sqlite3.connect('db.sqlite3', timeout=10) as con:\n",
    "    print(\"Verbunden mit db.sqlite3\")"
   ]
  },
  {
   "cell_type": "markdown",
   "id": "1cc3ac5e",
   "metadata": {},
   "source": [
    "Da wir in dieser Aufgabe immer mit einer leeren Datenbank starten möchten, löschen wir zunächst die einige *Table* unserer DB.\n",
    "Dabei gibt es das Problem, dass die Tabelle beim ersten Aufruf noch gar nicht vorhanden ist:"
   ]
  },
  {
   "cell_type": "code",
   "execution_count": null,
   "id": "c771d94f",
   "metadata": {},
   "outputs": [],
   "source": [
    "with sqlite3.connect('db.sqlite3', timeout=10) as con:\n",
    "    con.execute(\"DROP TABLE Albums\")"
   ]
  },
  {
   "cell_type": "markdown",
   "id": "c82d963a",
   "metadata": {},
   "source": [
    "**Aufgabe:** Sichern Sie die `DROP TABLE` Anfrage mit Ausnahmebehandlung ab, sodass es nicht mehr zu einem Fehler kommt, sondern nur noch eine Hinweis ausgegeben wird, dass die Tabelle nicht existiert.\n",
    "Um welche Exception-Klasse handelt es sich? Fangen Sie nur den speziellen Fehler ab, der bei dem Datenbankzugriff Auftritt. Geben Sie die ursprüngliche Fehlermeldung der Exception (\"no such table: Albums\") mit aus."
   ]
  },
  {
   "cell_type": "code",
   "execution_count": null,
   "id": "6733e8dd",
   "metadata": {
    "deletable": false,
    "nbgrader": {
     "grade": false,
     "grade_id": "cell-fb1bb258d575beae",
     "locked": false,
     "schema_version": 3,
     "solution": true,
     "task": false
    }
   },
   "outputs": [],
   "source": [
    "with sqlite3.connect('db.sqlite3', timeout=10) as con:\n",
    "    # YOUR CODE HERE\n",
    "    raise NotImplementedError()"
   ]
  },
  {
   "cell_type": "code",
   "execution_count": null,
   "id": "7a4e1159",
   "metadata": {
    "deletable": false,
    "editable": false,
    "nbgrader": {
     "grade": true,
     "grade_id": "cell-7867bcc63ebfcc0e",
     "locked": true,
     "points": 0,
     "schema_version": 3,
     "solution": false,
     "task": false
    }
   },
   "outputs": [],
   "source": [
    "%rerun"
   ]
  },
  {
   "cell_type": "markdown",
   "id": "3c73873e",
   "metadata": {},
   "source": [
    "Nun erstellen wir eine neue *Table* in der Datenbank."
   ]
  },
  {
   "cell_type": "code",
   "execution_count": null,
   "id": "e697ae4b",
   "metadata": {},
   "outputs": [],
   "source": [
    "with sqlite3.connect('db.sqlite3', timeout=10) as con:\n",
    "    cur = con.cursor()\n",
    "    albums_sql = \"\"\"\n",
    "    CREATE TABLE Albums (\n",
    "        id integer PRIMARY KEY,\n",
    "        artist text NOT NULL,\n",
    "        title text NOT NULL,\n",
    "        date date,\n",
    "        CONSTRAINT unq UNIQUE (artist, title))\"\"\"\n",
    "    cur.execute(albums_sql)\n"
   ]
  },
  {
   "cell_type": "markdown",
   "id": "53992a62",
   "metadata": {},
   "source": [
    "Wir können nun die Veröffentlichungen von Musikkünstlern oder Bands herunterladen und in der Tabelle ablegen.\n",
    "Allerdings liefert uns Musicbrainz häufig auch Varianten ein und desselben Albums.\n",
    "Wir möchten aber einen Albumtitel nur einmalig in unserer DB ablegen.\n",
    "Daher auch die Forderung `UNIQUE (artist, title)` im Datenbankschema.\n",
    "Wenn wir versuchen, ein gleichnamiges Album erneut einzufügen, resultiert dies in einem Fehler."
   ]
  },
  {
   "cell_type": "code",
   "execution_count": null,
   "id": "6b3f35b6",
   "metadata": {},
   "outputs": [],
   "source": [
    "a = alben_von(\"Neil Young\")\n",
    "\n",
    "for r in a:\n",
    "    insert_sql = f\"INSERT INTO Albums (artist, title, date) VALUES (\\\"{r[0]}\\\", \\\"{r[1]}\\\", \\\"{r[2]}\\\")\"\n",
    "    with sqlite3.connect('db.sqlite3', timeout=10) as con:\n",
    "        cur.execute(insert_sql)"
   ]
  },
  {
   "cell_type": "markdown",
   "id": "5e785fd9",
   "metadata": {},
   "source": [
    "**Aufgabe:** Fangen Sie den Fehler beim Eintragen doppelter Titel ab, sodass nur noch ein Hinweis auf der Standardausgabe angezeigt wird."
   ]
  },
  {
   "cell_type": "code",
   "execution_count": null,
   "id": "0bf21900",
   "metadata": {
    "deletable": false,
    "nbgrader": {
     "grade": false,
     "grade_id": "cell-65fcbd721cfbfb26",
     "locked": false,
     "schema_version": 3,
     "solution": true,
     "task": false
    }
   },
   "outputs": [],
   "source": [
    "a = alben_von(\"Neil Young\")\n",
    "\n",
    "for r in a:\n",
    "    insert_sql = f\"INSERT INTO Albums (artist, title, date) VALUES (\\\"{r[0]}\\\", \\\"{r[1]}\\\", \\\"{r[2]}\\\")\"\n",
    "    # YOUR CODE HERE\n",
    "    raise NotImplementedError()"
   ]
  },
  {
   "cell_type": "code",
   "execution_count": null,
   "id": "63e3cc68",
   "metadata": {
    "deletable": false,
    "editable": false,
    "nbgrader": {
     "grade": true,
     "grade_id": "cell-aaed3f30a89ae14f",
     "locked": true,
     "points": 0,
     "schema_version": 3,
     "solution": false,
     "task": false
    }
   },
   "outputs": [],
   "source": [
    "%rerun"
   ]
  },
  {
   "cell_type": "markdown",
   "id": "cee113fb",
   "metadata": {},
   "source": [
    "Wir können nun noch den Inhalt der Datenbank ausgeben:"
   ]
  },
  {
   "cell_type": "code",
   "execution_count": null,
   "id": "cb3171e9",
   "metadata": {},
   "outputs": [],
   "source": [
    "with sqlite3.connect('db.sqlite3', timeout=10) as con:\n",
    "    cur.execute(\"SELECT * FROM Albums\")\n",
    "    print(cur.fetchall())"
   ]
  },
  {
   "cell_type": "markdown",
   "id": "43cbc0e8",
   "metadata": {},
   "source": [
    "Wir definieren nun eine Funktion, mit der wir ein Release-Datum aus der Datenbank lesen können:"
   ]
  },
  {
   "cell_type": "code",
   "execution_count": null,
   "id": "be2832c2",
   "metadata": {},
   "outputs": [],
   "source": [
    "def get_date_of_release(artist, title):\n",
    "    with sqlite3.connect('db.sqlite3', timeout=10) as con:\n",
    "        get_sql = f\"SELECT date FROM Albums WHERE artist='{artist}' AND title='{title}'\"\n",
    "        cur.execute(get_sql)\n",
    "        r = cur.fetchone()\n",
    "        if r:\n",
    "            return r[0]\n",
    "        else:\n",
    "            return None"
   ]
  },
  {
   "cell_type": "markdown",
   "id": "075514cf",
   "metadata": {},
   "source": [
    "Da man annehmen kann, dass sich die Release Daten nicht ändern, können wir die Rückgaben der Methode lokal cachen.\n",
    "Damit spart man sich Zugriffe auf die Datenbank, für wiederkehrende Anfragen mit gleichen Parametern.\n",
    "\n",
    "**Aufgabe:** Verwenden Sie einen Caching Decorator für die Methode `get_date_of_release`."
   ]
  },
  {
   "cell_type": "code",
   "execution_count": null,
   "id": "b21fc8c3",
   "metadata": {
    "deletable": false,
    "nbgrader": {
     "grade": false,
     "grade_id": "cell-84807fb94174334c",
     "locked": false,
     "schema_version": 3,
     "solution": true,
     "task": false
    }
   },
   "outputs": [],
   "source": [
    "def cached(f):\n",
    "    # YOUR CODE HERE\n",
    "    raise NotImplementedError()"
   ]
  },
  {
   "cell_type": "code",
   "execution_count": null,
   "id": "fe05ce25",
   "metadata": {
    "deletable": false,
    "editable": false,
    "nbgrader": {
     "grade": true,
     "grade_id": "cell-014a8fe7b61719da",
     "locked": true,
     "points": 0,
     "schema_version": 3,
     "solution": false,
     "task": false
    }
   },
   "outputs": [],
   "source": [
    "@cached\n",
    "def get_date_of_release(artist, title):\n",
    "    with sqlite3.connect('db.sqlite3', timeout=10) as con:\n",
    "        get_sql = f\"SELECT date FROM Albums WHERE artist='{artist}' AND title='{title}'\"\n",
    "        cur.execute(get_sql)\n",
    "        r = cur.fetchone()\n",
    "        if r:\n",
    "            return r[0]\n",
    "        else:\n",
    "            return None"
   ]
  },
  {
   "cell_type": "code",
   "execution_count": null,
   "id": "a5b858ac",
   "metadata": {},
   "outputs": [],
   "source": [
    "%timeit -n 1 -r 1 d = get_date_of_release(\"Neil Young\", \"Freedom\")"
   ]
  },
  {
   "cell_type": "code",
   "execution_count": null,
   "id": "efeefe7d",
   "metadata": {},
   "outputs": [],
   "source": [
    "%timeit -n 1 -r 1 d = get_date_of_release(\"Neil Young\", \"Freedom\")"
   ]
  }
 ],
 "metadata": {
  "kernelspec": {
   "display_name": "Python 3 (ipykernel)",
   "language": "python",
   "name": "python3"
  },
  "language_info": {
   "codemirror_mode": {
    "name": "ipython",
    "version": 3
   },
   "file_extension": ".py",
   "mimetype": "text/x-python",
   "name": "python",
   "nbconvert_exporter": "python",
   "pygments_lexer": "ipython3",
   "version": "3.11.5"
  }
 },
 "nbformat": 4,
 "nbformat_minor": 5
}
