{
 "cells": [
  {
   "cell_type": "markdown",
   "id": "9bec3729",
   "metadata": {},
   "source": [
    "<figure>\n",
    "  <IMG SRC=\"https://upload.wikimedia.org/wikipedia/commons/thumb/d/d5/Fachhochschule_Südwestfalen_20xx_logo.svg/320px-Fachhochschule_Südwestfalen_20xx_logo.svg.png\" WIDTH=250 ALIGN=\"right\">\n",
    "</figure>\n",
    "\n",
    "# Skriptsprachen\n",
    "### Winterersemester 2023/24\n",
    "Prof. Dr. Heiner Giefers"
   ]
  },
  {
   "cell_type": "markdown",
   "id": "3c1e80db",
   "metadata": {},
   "source": [
    "## Kriminalitätstatistik Berlin\n",
    "\n",
    "In dieser Aufgabe wollen wir einen Datensatz zur Kriminalität in den Berliner Stadtbezirken untersuchen.\n",
    "Die aktulle Form dieses Datensatzes (mit Zahlen bis einschließlich 2022) finden Sie auf den [Seiten der Berliner Polizei](https://www.berlin.de/polizei/service/kriminalitaetsatlas/). Die in dieser Aufgabe verwendeten Daten stammen von einer Variante, die über die Datenplattform [Kaggle](https://www.kaggle.com/datasets/danilzyryanov/crime-in-berlin-2012-2019/data) veröffentlicht wurde. Die Einwohnerzahlen stammen von der Seite [www.citypopulation.de](https://www.citypopulation.de/de/germany/berlin/admin/)\n",
    "\n",
    "#### Über den Datensatz\n",
    "\n",
    "Seit 2008 wertet die Berliner Polizei die Kriminalitätsbelastung kleinräumig aus und veröffentlicht alle zwei Jahre den *Kriminalitätsatlas Berlin*, der auf ihrer [Homepage](https://www.berlin.de/polizei/service/kriminalitaetsatlas/) verfügbar ist.\n",
    "In diesem Bericht werden für die 12 Berliner Bezirke und 138 Bezirksregionen absolute Fallzahlen und Häufigkeitszahlen (Fälle pro 100.000 Einwohner) zu 17 verschiedenen Deliktsbereichen dargestellt.\n",
    "\n",
    "Der vorliegende Datensatz von Kaggle enthält die **absolute Fallzahlen**, d.h. Stadtbezirke mit größerer Einwohnerzahl könnten potenziell *unsicherer* wirken, als sie tatsächlich sind.\n",
    "\n",
    "Wir wollen über Berechnungen und Visualisierungen einige Fragestellungen zu diesen Daten beantworten, darunter etwa:\n",
    "\n",
    "1. Welcher Teil Berlins ist am gefährlichsten?\n",
    "1. Wie häufig treten bestimmte Straftaten auf?\n",
    "1. Welche Straftaten nehmen zu, welche gehen zurück?\n"
   ]
  },
  {
   "cell_type": "markdown",
   "id": "243b7652",
   "metadata": {},
   "source": [
    "Zunächst importieren wir die **Pandas** Bibliothek und laden den Datensatz in Form eines csv-Files in einen **Data Frame**.\n",
    "Wir geben eine Übersicht über die Splaten aus und zeigen die 20 Zeilen des Datensatzes an."
   ]
  },
  {
   "cell_type": "code",
   "execution_count": null,
   "id": "02747c08",
   "metadata": {},
   "outputs": [],
   "source": [
    "import pandas as pd\n",
    "df = pd.read_csv('https://raw.githubusercontent.com/fhswf/datasets/main/Berlin_crimes.csv', sep=';')\n",
    "df.info()\n",
    "df.head(20)"
   ]
  },
  {
   "cell_type": "markdown",
   "id": "f52d1efa",
   "metadata": {},
   "source": [
    "Wir wollen über ein paar Beispiele erfahren, wie man mit Pandas DataFrames arbeiten kann.\n",
    "In der folgende Code-Zeile passieren insgesamt 3 Schritte:\n",
    "\n",
    "1. Datenfilterung mit `df[df.Bezirk==\"Mitte\"]`: Zuerst wird der DataFrame df gefiltert, um nur die Zeilen zu behalten, in denen die Spalte Bezirk den Wert \"Mitte\" hat. Das Ergebnis dieser Filteroperation ist ein neuer DataFrame, der nur Einträge aus dem Bezirk Mitte enthält.\n",
    "1. Gruppierung mit `.groupby(\"Jahr\")`: Der gefilterte DataFrame wird dann nach der Spalte Jahr gruppiert. Das bedeutet, dass die Daten in Untergruppen aufgeteilt werden, wobei jede Gruppe Einträge aus demselben Jahr enthält.\n",
    "1. Aggregation mit `.sum()`: Schließlich wird die Aggregationsfunktion `sum()` auf jede dieser Gruppen angewendet. Für jede Gruppe (also für jedes Jahr) werden alle numerischen Spalten aufsummiert. (*Hinweis:* Als Aggregationsfunktion wären ebenfalls statistische Kennzahlen wie Durchschnitt, Maximal-, Minimalwert oder eine Transformation, wie etwa das Standardisieren der Daten, möglich gewesen) \n",
    "\n",
    "\n",
    "Das Ergebnis ist ein neuer DataFrame, in dem jedes Jahr (jede Gruppe) durch eine Zeile repräsentiert wird und die Spalten die Summe der jeweiligen numerischen Werte für dieses Jahr enthalten.\n",
    "\n",
    "\n",
    "Diese Code-Zeile filtert also den ursprünglichen DataFrame `df` für Einträge aus dem Bezirk Mitte, gruppiert diese Einträge nach Jahr und berechnet dann die Summe aller numerischen Werte für jedes Jahr. Das Ergebnis gibt einen Überblick über die aggregierten Daten pro Jahr spezifisch für den Bezirk Mitte.\n"
   ]
  },
  {
   "cell_type": "code",
   "execution_count": null,
   "id": "7f76aea3",
   "metadata": {},
   "outputs": [],
   "source": [
    "df[df.Bezirk==\"Mitte\"].groupby(\"Jahr\").sum()"
   ]
  },
  {
   "cell_type": "markdown",
   "id": "03b80800",
   "metadata": {},
   "source": [
    "Nun wollen wir einzelne Daten aus dem ursprünglichen Datensatz herausnehmen.\n",
    "\n",
    "Die nächste Code-Zeile verwendet die `drop()` Methode von Pandas DataFrame, mit der man Zeilen oder Spalten aus einem DataFrame entfernen kann.\n",
    "`df` gibt den ursprünglichen DataFrame an. Die `drop()` Methode wird verwendet, um bestimmte Spalten oder Zeilen aus dem DataFrame zu entfernen. Mit dem `axis`-Parameter spezifiziert man, entlang welcher Spaltenachse die Operation durchgeführt werden soll. `axis=1` bedeutet, dass Spalten entfernt werden, während `axis=0` (der Standardwert) bedeutet, dass Zeilen entfernt werden.\n",
    "Die Liste `[\"Plz\", \"Jahr\", \"Gebiet\"]` enthält die Namen der Spalten, die entfernt werden sollen. In diesem Fall sind es die Spalten \"Plz\", \"Jahr\" und \"Gebiet\".\n",
    "\n",
    "\n",
    "Das Ergebnis dieser Operation - ein DataFrame ohne die Spalten \"Plz\", \"Jahr\" und \"Gebiet\" - wird der Variablen `tatbestaende` zugewiesen.\n",
    "\n",
    "Diese Codezeile entfernt also die Spalten \"Plz\", \"Jahr\" und \"Gebiet\" aus dem DataFrame `df` und speichert das Ergebnis in der Variablen `tatbestaende`. `tatbestaende` ist nun ein modifizierter DataFrame, der alle ursprünglichen Spalten von `df` außer den entfernten enthält.\n"
   ]
  },
  {
   "cell_type": "code",
   "execution_count": null,
   "id": "c6a365b8",
   "metadata": {},
   "outputs": [],
   "source": [
    "tatbestaende = df.drop([\"Plz\", \"Jahr\", \"Gebiet\"], axis=1)\n",
    "tatbestaende"
   ]
  },
  {
   "cell_type": "markdown",
   "id": "18adcc6c",
   "metadata": {},
   "source": [
    "Wenn wir mit den Daten eines DataFrame Objektes *rechnen* wollen, können wir die Werte der Tabelle als NumPy Array extrahieren. \n",
    "Den Zugriff auf DataFrame-Werte mit erhält man über das Attribut (bzw. die *Property*) `.values` eines DataFrames. \n",
    "\n",
    "Wenn wir `tatbestaende.values` aufrufen, konvertieren wir also den DataFrame `tatbestaende` in ein NumPy-Array. Jede Zeile im DataFrame wird zu einer Zeile im Array, und jede Spalte im DataFrame wird zu einer Spalte im Array.\n",
    "\n",
    "```python\n",
    "x = tatbestaende.values\n",
    "x\n",
    "````\n",
    "```text\n",
    "array([['Mitte', 70, 46, ..., 26, 171, 1032],\n",
    "       ['Mitte', 65, 29, ..., 124, 98, 870],\n",
    "       ['Mitte', 242, 136, ..., 522, 435, 3108],\n",
    "       ...,\n",
    "       ['Reinickendorf', 6, 4, ..., 56, 21, 212],\n",
    "       ['Reinickendorf', 8, 4, ..., 8, 31, 218],\n",
    "       ['Reinickendorf', 3, 2, ..., 3, 9, 21]], dtype=object)\n",
    "```\n",
    "\n",
    "**Aufgabe:** Verwenden Sie das NumPy Array `x` um die Summe der der Straftaten im Bezirk mitte zu berechnen."
   ]
  },
  {
   "cell_type": "code",
   "execution_count": null,
   "id": "2ebe91eb",
   "metadata": {
    "deletable": false,
    "nbgrader": {
     "grade": true,
     "grade_id": "cell-2104e832ecb65349",
     "locked": false,
     "points": 0,
     "schema_version": 3,
     "solution": true,
     "task": false
    }
   },
   "outputs": [],
   "source": [
    "x = tatbestaende.values\n",
    "\n",
    "# YOUR CODE HERE\n",
    "raise NotImplementedError()"
   ]
  },
  {
   "cell_type": "markdown",
   "id": "5d0ab81f",
   "metadata": {},
   "source": [
    "Die Werte sollten der in der folgenden Ausgabe entsprechen:"
   ]
  },
  {
   "cell_type": "code",
   "execution_count": null,
   "id": "321ac439",
   "metadata": {},
   "outputs": [],
   "source": [
    "pd.DataFrame(tatbestaende[tatbestaende.Bezirk==\"Mitte\"].sum().drop([\"Bezirk\"])).T"
   ]
  },
  {
   "cell_type": "markdown",
   "id": "2c4d44e8",
   "metadata": {},
   "source": [
    "**Aufgabe:** Verwenden Sie die `groupby()` Methode auf dem DataFrame `tatbestaende`, um die Summe der Starftaten in allen Stadtgebieten zu berechnen."
   ]
  },
  {
   "cell_type": "code",
   "execution_count": null,
   "id": "7410e10e",
   "metadata": {
    "deletable": false,
    "nbgrader": {
     "grade": true,
     "grade_id": "cell-ac70fd595b2dacf0",
     "locked": false,
     "points": 0,
     "schema_version": 3,
     "solution": true,
     "task": false
    }
   },
   "outputs": [],
   "source": [
    "# YOUR CODE HERE\n",
    "raise NotImplementedError()"
   ]
  },
  {
   "cell_type": "markdown",
   "id": "52f942b8",
   "metadata": {},
   "source": [
    "Man kann einem DataFrame sehr einfach eine neue Spalte hinzufügen.\n",
    "Wie bei einem Dictionary macht man einfach eine Zuweisung auf einen neuen *Schlüssel* des DataFrames.\n",
    "Die rechte Seite der Zuweisung enthält eine Liste von Werten, die Anzahl der Werte muss der Anzahl der Zeilen im DataFrame entsprechen.\n",
    "Der Schlüssel wird als Name der neuen Spalte im DataFrame übernommen und die Daten in diese Spalte eingetragen."
   ]
  },
  {
   "cell_type": "code",
   "execution_count": null,
   "id": "4c6162b5",
   "metadata": {},
   "outputs": [],
   "source": [
    "einwohner_list = [343592, 290386, 294201, 269967, 385748, 329917, 409335, 266408, 245197, 310071, 350984, 273689]\n",
    "bezirke[\"Einwohner\"] = einwohner_list\n",
    "bezirke"
   ]
  },
  {
   "cell_type": "markdown",
   "id": "606f1fc8",
   "metadata": {},
   "source": [
    "Sind die Daten nicht Sortiert, kann man sie auch über den Index oder eine bestehende Spalte des DataFrames mit den Schlüsseln eines Dictionaries *matchen*.\n",
    "Im folgenden Beispiel passiert dies über die `.map()`-Methode:"
   ]
  },
  {
   "cell_type": "code",
   "execution_count": null,
   "id": "3f802202",
   "metadata": {},
   "outputs": [],
   "source": [
    "einwohner_dict = {'Charlottenburg-Wilmersdorf':  343592, 'Friedrichshain-Kreuzberg':290386, 'Lichtenberg':294201,\n",
    "       'Marzahn-Hellersdorf':269967, 'Mitte':385748, 'Neukölln':329917, 'Pankow':409335, 'Reinickendorf':266408,\n",
    "       'Spandau':245197, 'Steglitz-Zehlendorf':310071, 'Tempelhof-Schöneberg':350984,\n",
    "       'Treptow-Köpenick':273689}\n",
    "bezirke[\"Einwohner\"] = bezirke.index.map(einwohner_dict)\n",
    "bezirke"
   ]
  },
  {
   "cell_type": "markdown",
   "id": "daadb6d1",
   "metadata": {},
   "source": [
    "Die bisher verwendeten Daten sind absolute Fallzahlen, sie spiegeln also nicht die relative Häufigkeit von Straftaten im Bezirk wieder.\n",
    "Wir wollen daher \n",
    "\n",
    "**Aufgabe:** Erstelle Sie einen neuen DataFrame , `bezirke_hf` der statt der absoluten Fallzahlen die relativen Fallzahlen pro 100.000 Einwohner im Bezirk enthält. \n",
    "\n",
    "In der Follgenden Code-Zelle erstellen wir mit `pd.DataFrame(index=bezirke.index)` einen neuen DataFrame, der die gleichen Indizes (also die gleiche Anzahl an Zeilen und die gleichen *Zeilen-Bezeichner*), aber noch keine Spalten enthält.\n",
    "\n",
    "Die `for`-Schleife geht durch jede Spalte in `bezirke` (nachdem die Spalte \"Einwohner\" entfernt wurde).\n",
    "Für jede dieser Spalten wird der Spaltenname gedruckt (`print(str(c))`).\n",
    "Sie können diese Schleife verwenden, um für alle Tatbestände eine neue Spalte im DataFrame `bezirke_hf` zu berechnen."
   ]
  },
  {
   "cell_type": "code",
   "execution_count": null,
   "id": "80a6521b",
   "metadata": {
    "deletable": false,
    "nbgrader": {
     "grade": true,
     "grade_id": "cell-33b65175362f5f1f",
     "locked": false,
     "points": 0,
     "schema_version": 3,
     "solution": true,
     "task": false
    }
   },
   "outputs": [],
   "source": [
    "bezirke_hf = pd.DataFrame(index=bezirke.index)\n",
    "for c in bezirke.drop('Einwohner', axis=1).columns:\n",
    "    print(str(c))\n",
    "    # YOUR CODE HERE\n",
    "    raise NotImplementedError()\n",
    "bezirke_hf"
   ]
  },
  {
   "cell_type": "markdown",
   "id": "78a65e72",
   "metadata": {},
   "source": [
    "Nun können wir Aussagen darüber treffen, in welchem Bezirk bestimmte Straftaten am häufigsten vorkommen.\n",
    "\n",
    "Um in einem Pandas DataFrame die Position des Maximums einer bestimmten Spalte zu ermitteln, können wir die Methode `idxmax()` verwenden. Diese Methode gibt den Index des ersten Vorkommens des maximalen Werts in der angegebenen Spalte zurück."
   ]
  },
  {
   "cell_type": "code",
   "execution_count": null,
   "id": "82f074f1",
   "metadata": {},
   "outputs": [],
   "source": [
    "for c in bezirke_hf.columns:\n",
    "    print(f\"{c}: {bezirke_hf[c].idxmax()}\")"
   ]
  },
  {
   "cell_type": "markdown",
   "id": "53c0b9b5",
   "metadata": {},
   "source": [
    "Nun wollen wir unsere Daten mit der Bibliothek **Matplotlib** plotten. \n",
    "\n",
    "Wir berechnen zuerst die prozentualen Anteile der Straftaten in ganz Berlin.\n",
    "Dazu reduzieren wir den DataFrame `tatbestaende` um die Spalte `Bezirk`, summieren die Werte in den Spalten (`axis=1`) auf, sortieren die Ergebnisse aufsteigend und speichern sie unter dem Namen `crime` ab.\n",
    "Danach summieren wir alle Tatbestände zu einem Wert auf (`crime.sum()`) und teilen den Wert jedes einzelnen Tatbestands durch diese Gesamtzahl um den Prozentanteil zu erhalten."
   ]
  },
  {
   "cell_type": "code",
   "execution_count": null,
   "id": "f412ee0d",
   "metadata": {},
   "outputs": [],
   "source": [
    "crime = tatbestaende.drop('Bezirk', axis=1).sum().sort_values()\n",
    "crime /= crime.sum()\n",
    "crime"
   ]
  },
  {
   "cell_type": "markdown",
   "id": "e418a11d",
   "metadata": {},
   "source": [
    "**Aufgabe:** Werwenden Sie die Funktion [`plt.pie()`](https://matplotlib.org/stable/api/_as_gen/matplotlib.pyplot.pie.html) aus dem Modul *Pyplot* der Bibliothek *Matplotlib* um ein Tortendiagramm zur Verteilung der Straftaten zu plotten.\n",
    "\n",
    "Verwenden Sie neben dem obligatorischen Parameter `x` noch die optionalen Parameter `labels` und `autopct`.\n",
    "Für die Labels verwenden Sie den Index der Daten, `autopct` setzen Sie auf `'%.0f%%'` um die Prozentzahlen anzuzeigen.\n",
    "\n",
    "Die Abbildung sollte ungefähr so aussehen:\n",
    "![](crime_all.png?)"
   ]
  },
  {
   "cell_type": "code",
   "execution_count": null,
   "id": "0c7d27ad",
   "metadata": {
    "deletable": false,
    "nbgrader": {
     "grade": true,
     "grade_id": "cell-f8e361db5468fb3f",
     "locked": false,
     "points": 0,
     "schema_version": 3,
     "solution": true,
     "task": false
    }
   },
   "outputs": [],
   "source": [
    "import matplotlib.pyplot as plt\n",
    "# YOUR CODE HERE\n",
    "raise NotImplementedError()"
   ]
  },
  {
   "cell_type": "markdown",
   "id": "30160a2d",
   "metadata": {},
   "source": [
    "Einige der Straftaten haben eine nur sehr geringe Häufigkeit, wir wollen Sie zur besseren Übersicht zu einer Kategorie *andere* zusammenfassen.\n",
    "\n",
    "Dazu berechnen wir zuerst die Gesamtzahl aller Straftaten mit einer Häufigkeit von unter 2% pro Tatbestand."
   ]
  },
  {
   "cell_type": "code",
   "execution_count": null,
   "id": "cc23be59",
   "metadata": {},
   "outputs": [],
   "source": [
    "andere = crime[crime < 0.02].sum()\n",
    "andere"
   ]
  },
  {
   "cell_type": "markdown",
   "id": "05f63896",
   "metadata": {},
   "source": [
    "Nun legen wir einen neuen Datensatz `mcrime` an, der nur die Tatbestände über 2% Häufigkeit enthält und fügen diesem Datensatz einen Index \"andere\" hinzu.\n",
    "Den Wert setzen wir auf die zuvor berechnete Summe."
   ]
  },
  {
   "cell_type": "code",
   "execution_count": null,
   "id": "a2dac8b7",
   "metadata": {},
   "outputs": [],
   "source": [
    "mcrime = crime[crime >= 0.02]\n",
    "mcrime[\"andere\"] = andere\n",
    "mcrime"
   ]
  },
  {
   "cell_type": "markdown",
   "id": "4565e818",
   "metadata": {},
   "source": [
    "**Aufgabe:** Plotten Sie niun diese bereinigten Daten und geben Sie dem Diagramm den Titel *Kriminalität in Berlin zwischen 2012 und 2019*.\n",
    "\n",
    "Die Abbildung sollte nun so aussehen:\n",
    "![](crime_cleaned.png?)"
   ]
  },
  {
   "cell_type": "code",
   "execution_count": null,
   "id": "6673d868",
   "metadata": {
    "deletable": false,
    "nbgrader": {
     "grade": true,
     "grade_id": "cell-b8307f2fcc38d281",
     "locked": false,
     "points": 0,
     "schema_version": 3,
     "solution": true,
     "task": false
    }
   },
   "outputs": [],
   "source": [
    "import matplotlib.pyplot as plt\n",
    "# YOUR CODE HERE\n",
    "raise NotImplementedError()"
   ]
  },
  {
   "cell_type": "markdown",
   "id": "7aeb552c",
   "metadata": {},
   "source": [
    "Für eine Zeitliche Analyse der Daten entfernen wir die Spalten \"Plz\", \"Bezirk\" und \"Gebiet\" aus dem ursprünglichen Datensatz und Summieren die Zeilen gruppiert nach den Jahreszahlen auf."
   ]
  },
  {
   "cell_type": "code",
   "execution_count": null,
   "id": "1cf3aa43",
   "metadata": {},
   "outputs": [],
   "source": [
    "crime_t = df.drop([\"Plz\", \"Bezirk\", \"Gebiet\"], axis=1)\n",
    "crime_t = crime_t.groupby(\"Jahr\").sum()\n",
    "crime_t"
   ]
  },
  {
   "cell_type": "markdown",
   "id": "81eb4bda",
   "metadata": {},
   "source": [
    "Nun berechnen wir den Trend der einzelnen Tatbestände, beginnend mit dem ersten Jahr.\n",
    "Wir nehmen den Wert jedes Tatbestands im Jahr 2012 (`crime_t.iloc[0])`) und teilen alle Werte in den Spalten durch diesen Referenzwert.\n",
    "\n",
    "So entsteht eine Tabelle mit der Entwicklung der Tatbestände in Prozent, auf Basis des Ausgangswertes in 2012."
   ]
  },
  {
   "cell_type": "code",
   "execution_count": null,
   "id": "1ce040b2",
   "metadata": {},
   "outputs": [],
   "source": [
    "crime_t = (crime_t / crime_t.iloc[0]) * 100 // 1\n",
    "crime_t"
   ]
  },
  {
   "cell_type": "code",
   "execution_count": null,
   "id": "6efb3d14",
   "metadata": {},
   "outputs": [],
   "source": [
    "crime_t.columns.values"
   ]
  },
  {
   "cell_type": "markdown",
   "id": "f11b5e28",
   "metadata": {},
   "source": [
    "**Aufgabe:** Werwenden Sie die Funktion [`plt.plot()`](https://matplotlib.org/stable/api/_as_gen/matplotlib.pyplot.plot.html) aus dem Modul *Pyplot* der Bibliothek *Matplotlib* um die Entwicklung des Tatbestands *Raub* von 2012 bis 2019 darzustellen.\n",
    "\n",
    "Als `x` verwenden Sie den Index des DataFrames `crime_t`, als `y` die Werte der Spalte \"Raub\". Setzen Sie den Titel des Plots auf *Entwicklung des Straftatbestands \"Raub\" von 2012 bis 2019*\n",
    "\n",
    "Die Abbildung sollte folgendermaßen aussehen:\n",
    "\n",
    "![](Raubentwicklung.png?)"
   ]
  },
  {
   "cell_type": "code",
   "execution_count": null,
   "id": "df2d92d7",
   "metadata": {
    "deletable": false,
    "nbgrader": {
     "grade": true,
     "grade_id": "cell-d4cc8d053325d626",
     "locked": false,
     "points": 0,
     "schema_version": 3,
     "solution": true,
     "task": false
    }
   },
   "outputs": [],
   "source": [
    "# YOUR CODE HERE\n",
    "raise NotImplementedError()\n"
   ]
  },
  {
   "cell_type": "markdown",
   "id": "46e9fad3",
   "metadata": {},
   "source": [
    "Wir wollen nun alle 16 Tatbestände des Datenstazes in eine Abbildung plotten.\n",
    "Dazu erzeugen wir mit `plt.subplots(rows,cols, ...)` einen Subplot mit 4-mal-4 einzelnen Koordinatensystemen.\n",
    "Die einzelnen Koordinatensysteme erreichen wir über die 2-dimensionale Liste `ax`. \n",
    "\n",
    "**Aufgabe:** Laufen Sie mit der Schleife `i, cname in enumerate(crime_t.columns):` über alle 16 Spalten des DataFrames und erzeugen Sie einen Funktionsplot für die aktuelle Spalte in einem entsprechenen Koordinatensystem der Abbildung. `i` ist dabei eine von 0 laufende Zählvariable, `cname` ist der Name der aktuellen Spalte.\n",
    "\n",
    "Die komplette Abbildung sollte wie folgt aussehen:\n",
    "![](Straftatenentwicklung.png?)"
   ]
  },
  {
   "cell_type": "code",
   "execution_count": null,
   "id": "66318a59",
   "metadata": {
    "deletable": false,
    "nbgrader": {
     "grade": true,
     "grade_id": "cell-92b260fd330134c7",
     "locked": false,
     "points": 0,
     "schema_version": 3,
     "solution": true,
     "task": false
    }
   },
   "outputs": [],
   "source": [
    "rows = 4\n",
    "cols = 4\n",
    "plt.rc('xtick', labelsize=10)\n",
    "plt.rc('ytick', labelsize=8)\n",
    "fig, ax = plt.subplots(rows,cols, figsize=(12, 4 * rows))\n",
    "\n",
    "# YOUR CODE HERE\n",
    "raise NotImplementedError()\n"
   ]
  }
 ],
 "metadata": {
  "kernelspec": {
   "display_name": "Python 3 (ipykernel)",
   "language": "python",
   "name": "python3"
  },
  "language_info": {
   "codemirror_mode": {
    "name": "ipython",
    "version": 3
   },
   "file_extension": ".py",
   "mimetype": "text/x-python",
   "name": "python",
   "nbconvert_exporter": "python",
   "pygments_lexer": "ipython3",
   "version": "3.11.5"
  }
 },
 "nbformat": 4,
 "nbformat_minor": 5
}
