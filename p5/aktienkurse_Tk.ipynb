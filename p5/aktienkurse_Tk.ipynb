{
 "cells": [
  {
   "cell_type": "markdown",
   "id": "fdf18a06",
   "metadata": {},
   "source": [
    "<figure>\n",
    "  <IMG SRC=\"https://upload.wikimedia.org/wikipedia/commons/thumb/d/d5/Fachhochschule_Südwestfalen_20xx_logo.svg/320px-Fachhochschule_Südwestfalen_20xx_logo.svg.png\" WIDTH=250 ALIGN=\"right\">\n",
    "</figure>\n",
    "\n",
    "# Skriptsprachen\n",
    "### Winterersemester 2023/24\n",
    "Prof. Dr. Heiner Giefers"
   ]
  },
  {
   "cell_type": "markdown",
   "id": "cutting-static",
   "metadata": {},
   "source": [
    "## Aktienkurse mit Tkinter\n",
    "\n",
    "\n",
    "In dieser Aufgabe wollen wir die Entwicklung von Aktienkursen mit einer grafischen Oberfläche in Python umsetzen.\n",
    "Dazu werden wir eine Pakete einsetzen, die uns die Umsetzung der Aufgabe deutlich erleichtern:\n",
    "\n",
    " - Mit dem Modul **Tkinter** aus der Standardbibliothek können mit recht einfachen Mitteln grafische Oberflächen erstellt werden. Intern wird dabei das Tk-Toolkit verwendet.\n",
    " - Die **Matplotlib**-Bibliothek stellt Möglichkeiten zum Plotten verschiedenster Arten von Graphen zur Verfügung.\n",
    " - Für den Abruf von aktuellen Aktienkursen könnte man Reguläre Ausdrücke oder Web-Scraping Bibliotheken (wie etwas *Beautiful Soup*) verwenden. Wir wollen in dieser Aufgabe aber historische Kursdaten anzeigen. Daher verwenden wir das Modul **YFinance** (für *Yahoo Finance*) mit dem man auf Aktienkurs-Informationen aus der Vergangenheit zugreifen kann.\n",
    " - Wir werden sehen, dass *yfinance* ein **Pandas** *DataFrame* Objekt zurückliefert. Wir werden also auch diese Bibliothek, die in Python sehr verbreitet für das Verarbeiten Tabellarischer Daten eingesetzt wird, verwenden.\n"
   ]
  },
  {
   "cell_type": "markdown",
   "id": "responsible-trout",
   "metadata": {},
   "source": [
    "Fangen wir mit `yfinance` an. Zunächst muss die Bibliothek mit `pip install yfinance` installiert werden.\n",
    "Wir importieren Sie unter dem Namen `yf`, erzeugen mit `yf.Ticker` ein Marktdaten-Objekt und laden die Daten der letzten fünf Jahre mit der Methode `history` herunter.\n",
    "Das resultierende Objekt `prices` ist ein [Pandas *DataFrame*](https://pandas.pydata.org/docs/reference/api/pandas.DataFrame.html) mit diversen Aktienkurs-Informationen von, in diesem Fall, der Firma Apple. "
   ]
  },
  {
   "cell_type": "code",
   "execution_count": null,
   "id": "continuing-machine",
   "metadata": {},
   "outputs": [],
   "source": [
    "try:\n",
    "    import yfinance as yf\n",
    "except ModuleNotFoundError:\n",
    "    import sys\n",
    "    !{sys.executable} -m pip install yfinance\n",
    "    import yfinance as yf\n",
    "\n",
    "\n",
    "stock     = 'AAPL'\n",
    "stockname = 'Apple'\n",
    "timespan  = '5y'\n",
    "\n",
    "stock = yf.Ticker(stock)\n",
    "prices = stock.history(period=timespan)"
   ]
  },
  {
   "cell_type": "markdown",
   "id": "blond-peeing",
   "metadata": {},
   "source": [
    "**Aufgabe: Welche Informationen enthält der Dataframe? Geben Sie eine Liste `cols` mit den Spaltennamen der Tabelle an. Wie Sie an die Namen der Spalten kommen, erfahren Sie aus der [Dokumentation zur Pandas *DataFrame* Klasse](https://pandas.pydata.org/docs/reference/api/pandas.DataFrame.html).**\n",
    "\n",
    "**Setzen Sie den Wert `nrows` auf die Anzahl der Zeilen (=Datenpunkte) in der Tabelle.**"
   ]
  },
  {
   "cell_type": "code",
   "execution_count": null,
   "id": "knowing-dynamics",
   "metadata": {
    "deletable": false,
    "nbgrader": {
     "grade": false,
     "grade_id": "cell-948955c10511dc4d",
     "locked": false,
     "schema_version": 3,
     "solution": true,
     "task": false
    }
   },
   "outputs": [],
   "source": [
    "cols = None\n",
    "nrows = None\n",
    "# YOUR CODE HERE\n",
    "raise NotImplementedError()\n",
    "\n",
    "print(\"Spalten:\", list(cols.values))\n",
    "print(\"Anzahl Zeilen:\", nrows)"
   ]
  },
  {
   "cell_type": "code",
   "execution_count": null,
   "id": "animated-instruction",
   "metadata": {
    "deletable": false,
    "editable": false,
    "nbgrader": {
     "grade": true,
     "grade_id": "cell-ce0a52a39d8007b2",
     "locked": true,
     "points": 0,
     "schema_version": 3,
     "solution": false,
     "task": false
    }
   },
   "outputs": [],
   "source": [
    "# Test Zelle"
   ]
  },
  {
   "cell_type": "markdown",
   "id": "knowing-mortgage",
   "metadata": {},
   "source": [
    "Pandas implementiert für *DataFrames* und *Series* (das sind eindimensionale Daten, z.B. eine Spalte eines DataFrames) eine `plot`-Funktion.\n",
    "Dabei handelt es sich eigentlich um einen Wrapper für die `plot`-Funktion auf der *Matplotlib*."
   ]
  },
  {
   "cell_type": "code",
   "execution_count": null,
   "id": "valuable-camera",
   "metadata": {},
   "outputs": [],
   "source": [
    "try:\n",
    "    import matplotlib\n",
    "except ModuleNotFoundError:\n",
    "    import sys\n",
    "    !{sys.executable} -m pip install matplotlib\n",
    "    \n",
    "prices.Close.plot()"
   ]
  },
  {
   "cell_type": "markdown",
   "id": "dense-garbage",
   "metadata": {},
   "source": [
    "Nun wollen wir den Kursverlauf etwas schöner anzeigen un dabei auch die geglätteten Kurzen über einen Zeitraum von 14 und 100 Tagen anzeigen.\n",
    "\n",
    "Wir plotten hier übrigens etwas umständlicher als normalerweise.\n",
    "Das *Pyplot* Modul von Matplotlib liefert eine Schnittstelle, die sich an MATLAB orientiert und mit der in wenigen Zeilen ein Graph plotten lässt.\n",
    "`plt.figure()` liefert eine solche *Pyplot* Grafik.\n",
    "Über die Klasse `Figure` von Matplotlib können wir aber ein Grafikobjekt erstelln, dass sich später einfacher mit *Tkinter* darstellen lässt.\n",
    "Daher plotten wir den Graphen zuerst in dieses *Figure* Objekt und stellen es dann über *Pyplot* dar.\n"
   ]
  },
  {
   "cell_type": "code",
   "execution_count": null,
   "id": "unnecessary-composition",
   "metadata": {},
   "outputs": [],
   "source": [
    "from matplotlib.figure import Figure\n",
    "import matplotlib.pyplot as plt\n",
    "\n",
    "\n",
    "fig = Figure(figsize=(10, 4), dpi=100)\n",
    "fig.add_subplot(111)\n",
    "prices['14d'] = prices['Close'].rolling(14).mean()\n",
    "prices['100d'] = prices['Close'].rolling(100).mean()\n",
    "charts = fig.get_axes()[0].plot(prices[['Close','14d','100d']])\n",
    "fig.get_axes()[0].set_title(f'Kursverlauf von {stockname}')\n",
    "fig.get_axes()[0].legend(iter(charts), ('Schlusskurs','7-Tage','100-Tage'))\n",
    "\n",
    "dummy = plt.figure()\n",
    "figmanager = dummy.canvas.manager\n",
    "figmanager.canvas.figure = fig\n",
    "fig.set_canvas(figmanager.canvas)\n",
    "plt.show(fig)"
   ]
  },
  {
   "cell_type": "markdown",
   "id": "dressed-street",
   "metadata": {},
   "source": [
    "**Aufgabe: Implementieren Sie die Funktion `stock_plot`, die einen Graphen für einen Aktienkurs erstellt. Die Funktion erhält als Parameter ein `Figure`-Objekt und das Kürzel `stock` eines Aktienkurses. Die optionalen Parameter sind die Dauer `span` für die Daten aus der Vergangenheit abgerufen werden sollen sowie der Name der Kurses. Ist keine Dauer angegeben, sollen die letzten 5 Jahre abgerufen werden. Als Name kann defaultmäßig das Kürzel der Aktie verwendet werden.**"
   ]
  },
  {
   "cell_type": "code",
   "execution_count": null,
   "id": "toxic-paradise",
   "metadata": {
    "deletable": false,
    "nbgrader": {
     "grade": true,
     "grade_id": "cell-13c44cb9f46515ee",
     "locked": false,
     "points": 0,
     "schema_version": 3,
     "solution": true,
     "task": false
    }
   },
   "outputs": [],
   "source": [
    "from matplotlib.figure import Figure\n",
    "import matplotlib.pyplot as plt\n",
    "\n",
    "fig = Figure(figsize=(10, 4), dpi=100)\n",
    "fig.add_subplot(111)\n",
    "\n",
    "def stock_plot(fig, stock, span=None, stockname=None):\n",
    "    # YOUR CODE HERE\n",
    "    raise NotImplementedError()\n",
    "\n",
    "stock_plot(fig, 'GOOG', '2y', 'Google')\n",
    "    \n",
    "dummy = plt.figure()\n",
    "figmanager = dummy.canvas.manager\n",
    "figmanager.canvas.figure = fig\n",
    "fig.set_canvas(figmanager.canvas)\n",
    "plt.show(fig)"
   ]
  },
  {
   "cell_type": "markdown",
   "id": "twenty-oriental",
   "metadata": {},
   "source": [
    "Wir haben nun eine Grafik, die wir im Notebook anzeigen lassen können.\n",
    "Unser nächstes Ziel ist nun, diese Grafik in eine *Tkinter* GUI zu integrieren.\n",
    "\n",
    "**Achtung: Für die nächsten Aufgaben benötigen Sie eine lokale Python Installation.**\n",
    "\n",
    "Schauen Wir uns zunächst ein kleines Beispiel an.\n",
    "Die folgende Code-Zelle verwendet ein *Tkinter* um ein einfaches Fenster mit zwei Elementen anzuzeigen.\n",
    "Der Obere Teil ist eine Matplotlib Abbildung, die eine Sinuskurze zeigt.\n",
    "Im unteren Teil wird ein Button *Quit* angezeigt, mir dem das Fenster geschlossen werden kann.\n",
    "Dazu registrieren wir die Funktion `_quit` im Button-Objekt als `command`."
   ]
  },
  {
   "cell_type": "code",
   "execution_count": null,
   "id": "advised-brick",
   "metadata": {},
   "outputs": [],
   "source": [
    "import tkinter\n",
    "from matplotlib.backends.backend_tkagg import FigureCanvasTkAgg\n",
    "from matplotlib.figure import Figure\n",
    "import numpy as np\n",
    "import time\n",
    "\n",
    "# Hauptfenster erstellen\n",
    "root = tkinter.Tk()\n",
    "root.wm_title(\"Sinus\")\n",
    "\n",
    "# Abbildung erstellen\n",
    "fig = Figure(figsize=(5, 4), dpi=100)\n",
    "t = np.arange(-np.pi, np.pi, .01)\n",
    "fig.add_subplot(111).plot(t, np.sin(t))\n",
    "\n",
    "# Abbildung in eine tkinter canvas einbetten\n",
    "canvas = FigureCanvasTkAgg(fig, master=root)\n",
    "canvas.draw()\n",
    "canvas.get_tk_widget().pack(side=tkinter.TOP, fill=tkinter.BOTH, expand=1)\n",
    "\n",
    "# Flag wür die Hauptscheife\n",
    "is_running = True\n",
    "\n",
    "def _quit():\n",
    "    global is_running\n",
    "    is_running = False\n",
    "    root.quit()\n",
    "    root.destroy()\n",
    "\n",
    "# Quit Button\n",
    "button = tkinter.Button(master=root, text=\"Quit\", command=_quit)\n",
    "button.pack(side=tkinter.BOTTOM)\n",
    "\n",
    "# Event Loop\n",
    "try:\n",
    "    while is_running:\n",
    "        root.update_idletasks()\n",
    "        root.update()\n",
    "        time.sleep(0.05)\n",
    "except tkinter.TclError as e:\n",
    "    if \"application has been destroyed\" not in str(e):\n",
    "        raise"
   ]
  },
  {
   "cell_type": "markdown",
   "id": "informal-rebound",
   "metadata": {},
   "source": [
    "Matplotlib bietet neben der Klasse `FigureCanvasTkAgg` für `Tk`-Objekte, auch die die Klasse `NavigationToolbar2Tk` zum *navigieren* in Matplotlib Graphen.\n",
    "Damit können Sie in den Graphen hineinzoomen oder die Kurven verschieben."
   ]
  },
  {
   "cell_type": "code",
   "execution_count": null,
   "id": "45ecee10",
   "metadata": {},
   "outputs": [],
   "source": [
    "import tkinter\n",
    "from matplotlib.backends.backend_tkagg import FigureCanvasTkAgg, NavigationToolbar2Tk\n",
    "from matplotlib.figure import Figure\n",
    "import numpy as np\n",
    "import time\n",
    "\n",
    "# Hauptfenster erstellen\n",
    "root = tkinter.Tk()\n",
    "root.wm_title(\"Sinus\")\n",
    "\n",
    "# Abbildung erstellen\n",
    "fig = Figure(figsize=(5, 4), dpi=100)\n",
    "t = np.arange(-np.pi, np.pi, .01)\n",
    "fig.add_subplot(111).plot(t, np.sin(t))\n",
    "\n",
    "# Abbildung in eine tkinter canvas einbetten\n",
    "canvas = FigureCanvasTkAgg(fig, master=root)\n",
    "canvas.draw()\n",
    "canvas.get_tk_widget().pack(side=tkinter.TOP, fill=tkinter.BOTH, expand=1)\n",
    "\n",
    "# Navigation Toolbar einbetten\n",
    "toolbar = NavigationToolbar2Tk(canvas, root)\n",
    "toolbar.update()\n",
    "canvas.get_tk_widget().pack(side=tkinter.TOP, fill=tkinter.BOTH, expand=1)\n",
    "\n",
    "# Flag für die Hauptscheife\n",
    "is_running = True\n",
    "\n",
    "def _quit():\n",
    "    global is_running\n",
    "    is_running = False\n",
    "    root.quit()\n",
    "    root.destroy()\n",
    "\n",
    "# Quit Button\n",
    "button = tkinter.Button(master=root, text=\"Quit\", command=_quit)\n",
    "button.pack(side=tkinter.BOTTOM)\n",
    "\n",
    "# Event Loop\n",
    "try:\n",
    "    while is_running:\n",
    "        root.update_idletasks()\n",
    "        root.update()\n",
    "        time.sleep(0.05)\n",
    "except tkinter.TclError as e:\n",
    "    if \"application has been destroyed\" not in str(e):\n",
    "        raise"
   ]
  },
  {
   "cell_type": "markdown",
   "id": "remarkable-venture",
   "metadata": {},
   "source": [
    "Bisher ist unsere GUI sehr statisch.\n",
    "Wir fügen nun Radio-Buttons ein, mit den wir den Graphen von *Sinus* aud *Cosiunus* umstellen können.\n",
    "Die Werte der Radio-Buttons sind an die *TKinter* String-Variable `funktion` gebunden.\n",
    "Außerdem ist als Kommando eine Funktion `_refresh` abgegebe, mit welcher der Matplotlib Graph neu gezeichnet werden kann."
   ]
  },
  {
   "cell_type": "code",
   "execution_count": null,
   "id": "mysterious-spirit",
   "metadata": {},
   "outputs": [],
   "source": [
    "import tkinter\n",
    "\n",
    "from matplotlib.backends.backend_tkagg import FigureCanvasTkAgg, NavigationToolbar2Tk\n",
    "from matplotlib.backend_bases import key_press_handler\n",
    "from matplotlib.figure import Figure\n",
    "import numpy as np\n",
    "\n",
    "\n",
    "root = tkinter.Tk()\n",
    "root.wm_title(\"Sinus\")\n",
    "\n",
    "fig = Figure(figsize=(5, 4), dpi=100)\n",
    "t = np.arange(-np.pi, np.pi, .01)\n",
    "fig.add_subplot(111).plot(t, np.sin(t))\n",
    "\n",
    "canvas = FigureCanvasTkAgg(fig, master=root)\n",
    "canvas.draw()\n",
    "canvas.get_tk_widget().pack(side=tkinter.TOP, fill=tkinter.BOTH, expand=1)\n",
    "\n",
    "toolbar = NavigationToolbar2Tk(canvas, root)\n",
    "toolbar.update()\n",
    "canvas.get_tk_widget().pack(side=tkinter.TOP, fill=tkinter.BOTH, expand=1)\n",
    "\n",
    "funktion = tkinter.StringVar(value='sinus')\n",
    "\n",
    "# Flag für die Hauptscheife\n",
    "is_running = True\n",
    "\n",
    "def _quit():\n",
    "    global is_running\n",
    "    is_running = False\n",
    "    root.quit()\n",
    "    root.destroy()\n",
    "\n",
    "def _refresh():\n",
    "    global fig\n",
    "    global canvas\n",
    "    fig.get_axes()[0].clear()\n",
    "    t = np.arange(-np.pi, np.pi, .01)\n",
    "    if funktion.get()=='sinus':\n",
    "        fig.get_axes()[0].plot(t, np.sin(t))\n",
    "    else:\n",
    "        fig.get_axes()[0].plot(t, np.cos(t))\n",
    "    canvas.draw()\n",
    "\n",
    "    \n",
    "sin = tkinter.Radiobutton(root, text=\"Sinus\", variable=funktion, value='sinus', command=_refresh)\n",
    "cos = tkinter.Radiobutton(root, text=\"Cosinus\", variable=funktion, value='cosinus', command=_refresh)\n",
    "sin.pack(side=tkinter.LEFT)\n",
    "cos.pack(side=tkinter.LEFT)\n",
    "    \n",
    "button = tkinter.Button(master=root, text=\"Quit\", command=_quit)\n",
    "button.pack(side=tkinter.BOTTOM)\n",
    "\n",
    "# Event Loop\n",
    "try:\n",
    "    while is_running:\n",
    "        root.update_idletasks()\n",
    "        root.update()\n",
    "        time.sleep(0.01)\n",
    "except tkinter.TclError as e:\n",
    "    if \"application has been destroyed\" not in str(e):\n",
    "        raise\n"
   ]
  },
  {
   "cell_type": "markdown",
   "id": "systematic-artist",
   "metadata": {},
   "source": [
    "**Aufgabe: Übernehmen Sie oben verwendeten Funktionen um eine *TKinter* GUI zu entwickeln, mit der Sie die Aktienkurse von \n",
    "Apple (`aapl`), Facebook (`fb`), Google (`goog`), Netflix (`nflx`) und Microsoft (`msft`) anzeigen lassen können.\n",
    "Als Zeitspanne sollen die letzten fünf, zwei und ein Jahre ausgewählt werden können.**"
   ]
  },
  {
   "cell_type": "code",
   "execution_count": null,
   "id": "defined-musician",
   "metadata": {
    "deletable": false,
    "nbgrader": {
     "grade": true,
     "grade_id": "cell-8797a94bf6789e0d",
     "locked": false,
     "points": 0,
     "schema_version": 3,
     "solution": true,
     "task": false
    }
   },
   "outputs": [],
   "source": [
    "# YOUR CODE HERE\n",
    "raise NotImplementedError()"
   ]
  }
 ],
 "metadata": {
  "kernelspec": {
   "display_name": "Python 3 (ipykernel)",
   "language": "python",
   "name": "python3"
  },
  "language_info": {
   "codemirror_mode": {
    "name": "ipython",
    "version": 3
   },
   "file_extension": ".py",
   "mimetype": "text/x-python",
   "name": "python",
   "nbconvert_exporter": "python",
   "pygments_lexer": "ipython3",
   "version": "3.11.5"
  },
  "varInspector": {
   "cols": {
    "lenName": 16,
    "lenType": 16,
    "lenVar": 40
   },
   "kernels_config": {
    "python": {
     "delete_cmd_postfix": "",
     "delete_cmd_prefix": "del ",
     "library": "var_list.py",
     "varRefreshCmd": "print(var_dic_list())"
    },
    "r": {
     "delete_cmd_postfix": ") ",
     "delete_cmd_prefix": "rm(",
     "library": "var_list.r",
     "varRefreshCmd": "cat(var_dic_list()) "
    }
   },
   "types_to_exclude": [
    "module",
    "function",
    "builtin_function_or_method",
    "instance",
    "_Feature"
   ],
   "window_display": false
  }
 },
 "nbformat": 4,
 "nbformat_minor": 5
}
